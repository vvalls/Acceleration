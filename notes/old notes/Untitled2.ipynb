{
 "cells": [
  {
   "cell_type": "code",
   "execution_count": 1,
   "metadata": {},
   "outputs": [
    {
     "name": "stderr",
     "output_type": "stream",
     "text": [
      "\u001b[32m\u001b[1m Activating\u001b[22m\u001b[39m environment at `~/Desktop/Code/Acceleration/Acceleration/Project.toml`\n"
     ]
    }
   ],
   "source": [
    "] activate ../../Acceleration"
   ]
  },
  {
   "cell_type": "code",
   "execution_count": 4,
   "metadata": {},
   "outputs": [],
   "source": [
    "using Acceleration\n",
    "using LinearAlgebra\n",
    "\n",
    "n = 100;   # number of samples\n",
    "d = 50;     # number of features\n",
    "selected_labels = [3,4,0,1,2]; \n",
    "\n",
    "data, labels = load_dataset(\"Iris\",[0,1],100,20);"
   ]
  },
  {
   "cell_type": "code",
   "execution_count": 5,
   "metadata": {},
   "outputs": [
    {
     "data": {
      "text/plain": [
       "f (generic function with 1 method)"
      ]
     },
     "execution_count": 5,
     "metadata": {},
     "output_type": "execute_result"
    }
   ],
   "source": [
    "m = size(data,1)\n",
    "n = size(data,2)\n",
    "\n",
    "A = data; b = labels;\n",
    "λ = 1;\n",
    "\n",
    "function f(x)\n",
    "    return (1/m)*sum(log.(1 .+ exp.(-b.*(A*x)))) + (λ/2)*norm(x,2)^2;\n",
    "end"
   ]
  },
  {
   "cell_type": "code",
   "execution_count": null,
   "metadata": {},
   "outputs": [],
   "source": [
    "x_ini = zeros(n);\n",
    "f(x_ini)"
   ]
  },
  {
   "cell_type": "code",
   "execution_count": null,
   "metadata": {},
   "outputs": [],
   "source": [
    "function f(x)\n",
    "        return (1/m)*sum(log(1+exp( -b[i]*(A[i,:]'*x))) for i in 1:m) + (λ/2)*norm(x,2)^2\n",
    "    end"
   ]
  },
  {
   "cell_type": "code",
   "execution_count": null,
   "metadata": {},
   "outputs": [],
   "source": [
    "∇f(x_ini)"
   ]
  },
  {
   "cell_type": "code",
   "execution_count": null,
   "metadata": {},
   "outputs": [],
   "source": [
    "using LinearAlgebra\n",
    "using JuMP\n",
    "using Ipopt\n",
    "using SCS\n",
    "\n",
    "function logistic_regression_compute_optval(f,n)\n",
    "\n",
    "    model = Model(with_optimizer(SCS.Optimizer))\n",
    "    set_silent(model)\n",
    "    @variable(model, x[1:n])\n",
    "    @NLobjective(model, Min, f(x))\n",
    "    optimize!(model)\n",
    "\n",
    "    return value.(x);\n",
    "\n",
    "end"
   ]
  },
  {
   "cell_type": "code",
   "execution_count": null,
   "metadata": {},
   "outputs": [],
   "source": [
    "logistic_regression_compute_optval()"
   ]
  },
  {
   "cell_type": "code",
   "execution_count": null,
   "metadata": {},
   "outputs": [],
   "source": []
  }
 ],
 "metadata": {
  "kernelspec": {
   "display_name": "Julia 1.5.1",
   "language": "julia",
   "name": "julia-1.5"
  },
  "language_info": {
   "file_extension": ".jl",
   "mimetype": "application/julia",
   "name": "julia",
   "version": "1.5.1"
  }
 },
 "nbformat": 4,
 "nbformat_minor": 4
}
