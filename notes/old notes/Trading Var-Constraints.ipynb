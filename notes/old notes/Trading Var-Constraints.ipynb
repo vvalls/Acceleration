{
 "cells": [
  {
   "cell_type": "code",
   "execution_count": 32,
   "metadata": {},
   "outputs": [
    {
     "name": "stderr",
     "output_type": "stream",
     "text": [
      "\u001b[32m\u001b[1m Activating\u001b[22m\u001b[39m environment at `~/Desktop/Code/Acceleration/Acceleration/Project.toml`\n"
     ]
    }
   ],
   "source": [
    "] activate ../../Acceleration"
   ]
  },
  {
   "cell_type": "code",
   "execution_count": 52,
   "metadata": {},
   "outputs": [
    {
     "name": "stderr",
     "output_type": "stream",
     "text": [
      "┌ Info: Loading dataset MNIST with 60000 samples and 784 features\n",
      "└ @ Acceleration /Users/victor/Desktop/Code/Acceleration/Acceleration/src/datasets.jl:26\n"
     ]
    }
   ],
   "source": [
    "using Acceleration\n",
    "using LinearAlgebra\n",
    "\n",
    "n = 1000;  # number of samples\n",
    "d = 75;    # number of features\n",
    "selected_labels = [0,1,2];  ## Only two labels allowed\n",
    "\n",
    "data, labels = load_dataset(\"MNIST\",selected_labels,n,d);\n",
    "f,∇f,∇ϕ_cjg,σ,L,μ  = linear_regression(data,labels);\n",
    "μ2 = μ;"
   ]
  },
  {
   "cell_type": "code",
   "execution_count": 53,
   "metadata": {},
   "outputs": [
    {
     "name": "stdout",
     "output_type": "stream",
     "text": [
      "  0.017087 seconds (3.01 k allocations: 384.500 KiB)\n"
     ]
    }
   ],
   "source": [
    "n = size(data,2)\n",
    "x_ini = zeros(n)\n",
    "\n",
    "using JuMP\n",
    "using Ipopt\n",
    "\n",
    "model = Model(with_optimizer(Ipopt.Optimizer))\n",
    "set_silent(model)\n",
    "@variable(model, x[1:n])\n",
    "@objective(model, Min, f(x))\n",
    "@constraint(model, con, 0 .<= x)\n",
    "@time optimize!(model)\n",
    "x_opt = value.(x);"
   ]
  },
  {
   "cell_type": "code",
   "execution_count": 54,
   "metadata": {},
   "outputs": [],
   "source": [
    "for j in [0.5,1,2,3,4,5,1000]\n",
    "    \n",
    "n = length(x_ini)\n",
    "x = x_ini;\n",
    "y = zeros(n);\n",
    "z = zeros(n);\n",
    "v = zeros(n);\n",
    "A0 = σ/(2*L);\n",
    "A = A0;\n",
    "AX = zeros(n);\n",
    "\n",
    "k = 2000;\n",
    "yks = zeros(n,k);\n",
    "var_ξ = zeros(k)\n",
    "#μ = 0;\n",
    "s = zeros(n);\n",
    "p = 1\n",
    "ξ = 0;\n",
    "w = 0;\n",
    "\n",
    "\n",
    "for i=1:k   \n",
    "    p = j;\n",
    "    λ = 0.9*min((L/μ)*(j/i)^2, 1)\n",
    "    if(p == 1000)\n",
    "        λ = 1;\n",
    "    end\n",
    "    #λ = min((p+1)*(i+1)^(p-1),1)\n",
    "    a = L-μ; b = -λ*(μ*A + σ); c = -λ*(μ*A^2 + σ*A);\n",
    "    α = (-b + sqrt(b^2 - 4*a*c)) / (2*a);\n",
    "    A = A + α;\n",
    "    x = (A-α)/A*y + α/A*v; \n",
    "    AX = AX + α*x;\n",
    "\n",
    "    η = zeros(n) \n",
    "    approx_gradient = ∇f(x)+η;\n",
    "    \n",
    "    s = s + α*η;\n",
    "    z = z - α*approx_gradient;\n",
    "    \n",
    "    v_past = v;\n",
    "    v = max.(0,(z + μ*AX)*inv(1 + μ*(A-A0)));\n",
    "    y = (A-α)*inv(A)*y + α*inv(A)*v; \n",
    "    ξ = sqrt(1-λ)*(μ*(A-α) + σ)/α * norm(v-v_past,2);\n",
    "    var_ξ[i] = ξ;\n",
    "    #println(ξ)\n",
    "    yks[:,i] = y; \n",
    "        \n",
    "end\n",
    "    \n",
    "x_out = yks;\n",
    "p_out = sqrt.(sum((x_out .- x_opt).^2, dims=1)');\n",
    "\n",
    "\n",
    "filename = string(\"logs/\",j,\".txt\")\n",
    "io = open(filename, \"w\")\n",
    "for i=1:k\n",
    "    print(io,i)\n",
    "    print(io,\"\\t\")\n",
    "    print(io, p_out[i])\n",
    "    print(io,\"\\t\")\n",
    "    println(io, var_ξ[i])\n",
    "end\n",
    "close(io)\n",
    "end"
   ]
  },
  {
   "cell_type": "code",
   "execution_count": null,
   "metadata": {},
   "outputs": [],
   "source": []
  }
 ],
 "metadata": {
  "kernelspec": {
   "display_name": "Julia 1.5.1",
   "language": "julia",
   "name": "julia-1.5"
  },
  "language_info": {
   "file_extension": ".jl",
   "mimetype": "application/julia",
   "name": "julia",
   "version": "1.5.1"
  }
 },
 "nbformat": 4,
 "nbformat_minor": 4
}
