{
 "cells": [
  {
   "cell_type": "code",
   "execution_count": null,
   "metadata": {},
   "outputs": [],
   "source": [
    "using DataFrames\n",
    "using Plots\n",
    "using RDatasets\n",
    "using Convex\n",
    "using SCS"
   ]
  },
  {
   "cell_type": "code",
   "execution_count": null,
   "metadata": {},
   "outputs": [],
   "source": [
    "# we'll use iris data\n",
    "# predict whether the iris species is versicolor using the sepal length and width and petal length and width\n",
    "iris = dataset(\"datasets\", \"iris\")\n",
    "# outcome variable: +1 for versicolor, -1 otherwise\n",
    "Y = [species == \"versicolor\" ? 1.0 : -1.0 for species in iris.Species]\n",
    "# create data matrix with one column for each feature (first column corresponds to offset)\n",
    "X = hcat(ones(size(iris, 1)), iris.SepalLength, iris.SepalWidth, iris.PetalLength, iris.PetalWidth);"
   ]
  },
  {
   "cell_type": "code",
   "execution_count": null,
   "metadata": {},
   "outputs": [],
   "source": [
    "# solve the logistic regression problem\n",
    "n, p = size(X)\n",
    "beta = Variable(p)\n",
    "problem = minimize(logisticloss(-Y.*(X*beta)))\n",
    "\n",
    "solve!(problem, SCS.Optimizer)"
   ]
  },
  {
   "cell_type": "code",
   "execution_count": null,
   "metadata": {},
   "outputs": [],
   "source": [
    "# let's see how well the model fits\n",
    "using Plots\n",
    "logistic(x::Real) = inv(exp(-x) + one(x))\n",
    "perm = sortperm(vec(X*beta.value))\n",
    "plot(1:n, (Y[perm] .+ 1)/2, st=:scatter)\n",
    "plot!(1:n, logistic.(X*beta.value)[perm])"
   ]
  },
  {
   "cell_type": "code",
   "execution_count": null,
   "metadata": {},
   "outputs": [],
   "source": [
    "# we'll use iris data\n",
    "# predict whether the iris species is versicolor using the sepal length and width and petal length and width\n",
    "iris = dataset(\"datasets\", \"iris\")\n",
    "# outcome variable: +1 for versicolor, -1 otherwise\n",
    "Y = [species == \"versicolor\" ? 1.0 : -1.0 for species in iris.Species]\n",
    "# create data matrix with one column for each feature (first column corresponds to offset)\n",
    "X = hcat(ones(size(iris, 1)), iris.SepalLength, iris.SepalWidth, iris.PetalLength, iris.PetalWidth);"
   ]
  },
  {
   "cell_type": "code",
   "execution_count": null,
   "metadata": {},
   "outputs": [],
   "source": [
    "Y[20:90]"
   ]
  },
  {
   "cell_type": "code",
   "execution_count": null,
   "metadata": {},
   "outputs": [],
   "source": []
  }
 ],
 "metadata": {
  "kernelspec": {
   "display_name": "Julia 1.5.1",
   "language": "julia",
   "name": "julia-1.5"
  },
  "language_info": {
   "file_extension": ".jl",
   "mimetype": "application/julia",
   "name": "julia",
   "version": "1.5.1"
  }
 },
 "nbformat": 4,
 "nbformat_minor": 4
}
