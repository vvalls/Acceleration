{
 "cells": [
  {
   "cell_type": "code",
   "execution_count": null,
   "metadata": {},
   "outputs": [],
   "source": [
    "] activate ../../Acceleration"
   ]
  },
  {
   "cell_type": "code",
   "execution_count": null,
   "metadata": {},
   "outputs": [],
   "source": [
    "using Acceleration\n",
    "using LinearAlgebra\n",
    "\n",
    "n = 1000; # number of samples\n",
    "d = 100;    # number of features\n",
    "selected_labels = [0,1,2,3];  ## Only two labels allowed\n",
    "\n",
    "data, labels = load_dataset(\"MNIST\",[0,1],n,d);\n",
    "f,∇f,∇ϕ_cjg,σ,L,μ  = linear_regression(data,labels);"
   ]
  },
  {
   "cell_type": "code",
   "execution_count": null,
   "metadata": {},
   "outputs": [],
   "source": [
    "n = size(data,2)\n",
    "x_ini = zeros(n)\n",
    "\n",
    "using JuMP\n",
    "using Ipopt\n",
    "\n",
    "model = Model(with_optimizer(Ipopt.Optimizer))\n",
    "set_silent(model)\n",
    "@variable(model, x[1:n])\n",
    "@objective(model, Min, f(x))\n",
    "#@constraint(model, con, 0 .<= x)\n",
    "@time optimize!(model)\n",
    "x_opt = value.(x);"
   ]
  },
  {
   "cell_type": "code",
   "execution_count": null,
   "metadata": {},
   "outputs": [],
   "source": [
    "k = 10000;\n",
    "yks = zeros(n,k)\n",
    "var_ξ = zeros(k)\n",
    "\n",
    "n = length(x_ini)\n",
    "x = x_ini;\n",
    "y = zeros(n);\n",
    "z = zeros(n);\n",
    "v = zeros(n);\n",
    "A0 = σ/(2*L);\n",
    "A = A0;\n",
    "AX = zeros(n);\n",
    "\n",
    "yks = zeros(n,k);\n",
    "μ = 0;\n",
    "s = zeros(n);\n",
    "p = 1\n",
    "w = 0;\n",
    "\n",
    "\n",
    "for i=1:k   \n",
    "    λ = 1;#min((L/μ)*(p/i)^2, 1)\n",
    "    a = L-μ; b = -λ*(μ*A + σ); c = -λ*(μ*A^2 + σ*A);\n",
    "    α = (-b + sqrt(b^2 - 4*a*c)) / (2*a);\n",
    "    A = A + α;\n",
    "    x = (A-α)/A*y + α/A*v; \n",
    "    AX = AX + α*x;\n",
    "    \n",
    "    #q = (rand(n).-0.5)\n",
    "    #ξ = 1e-1\n",
    "    #η = ξ*q/norm(q);\n",
    "    η = zeros(n)\n",
    "    #println(norm(η))\n",
    "    approx_gradient = ∇f(x)+η;\n",
    "    \n",
    "    z = z - α*approx_gradient;\n",
    "    \n",
    "    \n",
    "    v_past = v;\n",
    "    #v = max.(0,(z + μ*AX)*inv(1 + μ*(A-A0)));\n",
    "    v = (z + μ*AX)*inv(1 + μ*(A-A0));\n",
    "    #y = (A-α)*inv(A)*y + α*inv(A)*v; \n",
    "    y = x - (1/L)*approx_gradient\n",
    "    \n",
    "    #println( (1-λ)*(μ*(A-α) + σ)^2/α^2 *norm(v-v_past,2)^2 )\n",
    "    #println(α/A)\n",
    "    #println()\n",
    "    println((α/A)*norm(v-v_past,2) - norm(y-x,2))\n",
    "    \n",
    "    #ξ = sqrt(1-λ)*(μ*(A-α) + σ)/α * norm(v-v_past,2);\n",
    "    var_ξ[i] = norm(v-v_past);\n",
    "    #println(ξ)\n",
    "    yks[:,i] = y;\n",
    "        \n",
    "end\n",
    "\n",
    "x_out = yks;\n",
    "p_out = sqrt.(sum((x_out .- x_opt).^2, dims=1)');\n",
    "\n",
    "\n",
    "filename = string(\"logs/s\",p,\".txt\")\n",
    "io = open(filename, \"w\")\n",
    "for i=1:k\n",
    "    print(io,i)\n",
    "    print(io,\"\\t\")\n",
    "    print(io, p_out[i])\n",
    "    print(io,\"\\t\")\n",
    "    println(io, var_ξ[i])\n",
    "end\n",
    "close(io)"
   ]
  },
  {
   "cell_type": "code",
   "execution_count": null,
   "metadata": {},
   "outputs": [],
   "source": [
    "using Plots\n",
    "using LinearAlgebra\n",
    "\n",
    "p_out = sqrt.(sum((yks .- x_opt).^2, dims=1)');\n",
    "\n",
    "plot(max.(hcat(p_out,var_ξ),1e-12),yaxis=:log,linewidth=2,xlabel=\"training rounds\",ylabel=\"loss\")\n",
    "#plot(max.(hcat(p_out),1e-20),yaxis=:log)"
   ]
  },
  {
   "cell_type": "code",
   "execution_count": null,
   "metadata": {},
   "outputs": [],
   "source": []
  },
  {
   "cell_type": "code",
   "execution_count": null,
   "metadata": {},
   "outputs": [],
   "source": [
    "a = rand(n)\n",
    "b = rand(n);\n",
    "\n"
   ]
  },
  {
   "cell_type": "code",
   "execution_count": null,
   "metadata": {},
   "outputs": [],
   "source": [
    "a'*b - (0.5*norm(a,2)^2 + 0.5*norm(b,2)^2)"
   ]
  },
  {
   "cell_type": "code",
   "execution_count": null,
   "metadata": {},
   "outputs": [],
   "source": []
  }
 ],
 "metadata": {
  "kernelspec": {
   "display_name": "Julia 1.5.1",
   "language": "julia",
   "name": "julia-1.5"
  },
  "language_info": {
   "file_extension": ".jl",
   "mimetype": "application/julia",
   "name": "julia",
   "version": "1.5.1"
  }
 },
 "nbformat": 4,
 "nbformat_minor": 4
}
