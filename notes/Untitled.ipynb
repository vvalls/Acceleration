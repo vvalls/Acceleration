{
 "cells": [
  {
   "cell_type": "code",
   "execution_count": 1,
   "metadata": {},
   "outputs": [],
   "source": [
    "using LinearAlgebra"
   ]
  },
  {
   "cell_type": "code",
   "execution_count": 8,
   "metadata": {},
   "outputs": [
    {
     "name": "stdout",
     "output_type": "stream",
     "text": [
      "-7.600201084793979\n",
      "-1.1222106120576596\n",
      "-1.259876267809541\n",
      "-1.1362048556427151\n",
      "-1.4484927380199608\n",
      "-1.4570481883727107\n",
      "-0.8956336143168206\n",
      "-1.3314748779816843\n",
      "-1.159743076985333\n",
      "-0.9962065452375515\n"
     ]
    }
   ],
   "source": [
    "n = 10\n",
    "v = zeros(n);\n",
    "x = zeros(n);\n",
    "k = 10;\n",
    "\n",
    "for i=1:k\n",
    "    x = (1/2)*y + (1/2)*v;\n",
    "    grad = (x.-1);\n",
    "    s = (1/2)*y - (1/2)*v;\n",
    "    v = rand(n)\n",
    "    y = x - grad;\n",
    "\n",
    "    println(grad'*(y-s) + (1/2)*norm(y-x,2)^2)\n",
    "end\n",
    "\n",
    "\n",
    "\n",
    "\n"
   ]
  },
  {
   "cell_type": "code",
   "execution_count": null,
   "metadata": {},
   "outputs": [],
   "source": []
  }
 ],
 "metadata": {
  "kernelspec": {
   "display_name": "Julia 1.5.1",
   "language": "julia",
   "name": "julia-1.5"
  },
  "language_info": {
   "file_extension": ".jl",
   "mimetype": "application/julia",
   "name": "julia",
   "version": "1.5.1"
  }
 },
 "nbformat": 4,
 "nbformat_minor": 4
}
