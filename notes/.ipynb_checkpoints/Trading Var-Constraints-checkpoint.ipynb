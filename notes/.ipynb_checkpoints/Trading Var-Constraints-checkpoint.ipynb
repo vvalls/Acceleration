{
 "cells": [
  {
   "cell_type": "code",
   "execution_count": 32,
   "metadata": {},
   "outputs": [
    {
     "name": "stderr",
     "output_type": "stream",
     "text": [
      "\u001b[32m\u001b[1m Activating\u001b[22m\u001b[39m environment at `~/Desktop/Code/Acceleration/Acceleration/Project.toml`\n"
     ]
    }
   ],
   "source": [
    "] activate ../../Acceleration"
   ]
  },
  {
   "cell_type": "code",
   "execution_count": 50,
   "metadata": {},
   "outputs": [
    {
     "name": "stderr",
     "output_type": "stream",
     "text": [
      "┌ Info: Loading dataset MNIST with 60000 samples and 784 features\n",
      "└ @ Acceleration /Users/victor/Desktop/Code/Acceleration/Acceleration/src/datasets.jl:26\n"
     ]
    }
   ],
   "source": [
    "using Acceleration\n",
    "using LinearAlgebra\n",
    "\n",
    "n = 1000;  # number of samples\n",
    "d = 75;    # number of features\n",
    "selected_labels = [0,1,2];  ## Only two labels allowed\n",
    "\n",
    "data, labels = load_dataset(\"MNIST\",selected_labels,n,d);\n",
    "f,∇f,∇ϕ_cjg,σ,L,μ  = linear_regression(data,labels);\n",
    "μ2 = μ;"
   ]
  },
  {
   "cell_type": "code",
   "execution_count": 51,
   "metadata": {},
   "outputs": [
    {
     "ename": "LoadError",
     "evalue": "DimensionMismatch(\"first array has length 75 which does not match the length of the second, 74.\")",
     "output_type": "error",
     "traceback": [
      "DimensionMismatch(\"first array has length 75 which does not match the length of the second, 74.\")",
      "",
      "Stacktrace:",
      " [1] _dot_nonrecursive(::Adjoint{Float64,Array{Float64,1}}, ::Array{VariableRef,1}) at /Users/julia/buildbot/worker/package_macos64/build/usr/share/julia/stdlib/v1.5/LinearAlgebra/src/adjtrans.jl:273",
      " [2] * at /Users/julia/buildbot/worker/package_macos64/build/usr/share/julia/stdlib/v1.5/LinearAlgebra/src/adjtrans.jl:285 [inlined]",
      " [3] (::Acceleration.var\"#4#8\"{Array{VariableRef,1},VariableRef,Adjoint{Float64,Array{Float64,2}},Array{Float64,1}})(::Int64) at ./none:0",
      " [4] (::Base.MappingRF{Acceleration.var\"#4#8\"{Array{VariableRef,1},VariableRef,Adjoint{Float64,Array{Float64,2}},Array{Float64,1}},Base.BottomRF{typeof(Base.add_sum)}})(::Base._InitialValue, ::Int64) at ./reduce.jl:93",
      " [5] _foldl_impl(::Base.MappingRF{Acceleration.var\"#4#8\"{Array{VariableRef,1},VariableRef,Adjoint{Float64,Array{Float64,2}},Array{Float64,1}},Base.BottomRF{typeof(Base.add_sum)}}, ::Base._InitialValue, ::UnitRange{Int64}) at ./reduce.jl:58",
      " [6] foldl_impl(::Base.MappingRF{Acceleration.var\"#4#8\"{Array{VariableRef,1},VariableRef,Adjoint{Float64,Array{Float64,2}},Array{Float64,1}},Base.BottomRF{typeof(Base.add_sum)}}, ::NamedTuple{(),Tuple{}}, ::UnitRange{Int64}) at ./reduce.jl:48",
      " [7] mapfoldl_impl at ./reduce.jl:44 [inlined]",
      " [8] #mapfoldl#204 at ./reduce.jl:160 [inlined]",
      " [9] mapfoldl at ./reduce.jl:160 [inlined]",
      " [10] #mapreduce#208 at ./reduce.jl:287 [inlined]",
      " [11] mapreduce at ./reduce.jl:287 [inlined]",
      " [12] sum at ./reduce.jl:494 [inlined]",
      " [13] sum at ./reduce.jl:511 [inlined]",
      " [14] (::Acceleration.var\"#f#7\"{Adjoint{Float64,Array{Float64,2}},Array{Float64,1},Int64,Int64})(::Array{VariableRef,1}) at /Users/victor/Desktop/Code/Acceleration/Acceleration/src/svm.jl:15",
      " [15] top-level scope at /Users/victor/.julia/packages/MutableArithmetics/NuiNA/src/rewrite.jl:227",
      " [16] top-level scope at /Users/victor/.julia/packages/JuMP/YXK4e/src/macros.jl:800",
      " [17] include_string(::Function, ::Module, ::String, ::String) at ./loading.jl:1091"
     ]
    }
   ],
   "source": [
    "n = size(data,2)\n",
    "x_ini = zeros(n)\n",
    "\n",
    "using JuMP\n",
    "using Ipopt\n",
    "\n",
    "model = Model(with_optimizer(Ipopt.Optimizer))\n",
    "set_silent(model)\n",
    "@variable(model, x[1:n])\n",
    "@objective(model, Min, f(x))\n",
    "@constraint(model, con, 0 .<= x)\n",
    "@time optimize!(model)\n",
    "x_opt = value.(x);"
   ]
  },
  {
   "cell_type": "code",
   "execution_count": 47,
   "metadata": {},
   "outputs": [],
   "source": [
    "for j in [0.5,1,2,3,4,5,1000]\n",
    "    \n",
    "n = length(x_ini)\n",
    "x = x_ini;\n",
    "y = zeros(n);\n",
    "z = zeros(n);\n",
    "v = zeros(n);\n",
    "A0 = σ/(2*L);\n",
    "A = A0;\n",
    "AX = zeros(n);\n",
    "\n",
    "k = 2000;\n",
    "yks = zeros(n,k);\n",
    "var_ξ = zeros(k)\n",
    "#μ = 0;\n",
    "s = zeros(n);\n",
    "p = 1\n",
    "ξ = 0;\n",
    "w = 0;\n",
    "\n",
    "\n",
    "for i=1:k   \n",
    "    p = j;\n",
    "    λ = 0.9*min((L/μ)*(j/i)^2, 1)\n",
    "    if(p == 1000)\n",
    "        λ = 1;\n",
    "    end\n",
    "    #λ = min((p+1)*(i+1)^(p-1),1)\n",
    "    a = L-μ; b = -λ*(μ*A + σ); c = -λ*(μ*A^2 + σ*A);\n",
    "    α = (-b + sqrt(b^2 - 4*a*c)) / (2*a);\n",
    "    A = A + α;\n",
    "    x = (A-α)/A*y + α/A*v; \n",
    "    AX = AX + α*x;\n",
    "\n",
    "    η = zeros(n) \n",
    "    approx_gradient = ∇f(x)+η;\n",
    "    \n",
    "    s = s + α*η;\n",
    "    z = z - α*approx_gradient;\n",
    "    \n",
    "    v_past = v;\n",
    "    v = max.(0,(z + μ*AX)*inv(1 + μ*(A-A0)));\n",
    "    y = (A-α)*inv(A)*y + α*inv(A)*v; \n",
    "    ξ = sqrt(1-λ)*(μ*(A-α) + σ)/α * norm(v-v_past,2);\n",
    "    var_ξ[i] = ξ;\n",
    "    #println(ξ)\n",
    "    yks[:,i] = y; \n",
    "        \n",
    "end\n",
    "    \n",
    "x_out = yks;\n",
    "p_out = sqrt.(sum((x_out .- x_opt).^2, dims=1)');\n",
    "\n",
    "\n",
    "filename = string(\"logs/\",j,\".txt\")\n",
    "io = open(filename, \"w\")\n",
    "for i=1:k\n",
    "    print(io,i)\n",
    "    print(io,\"\\t\")\n",
    "    print(io, p_out[i])\n",
    "    print(io,\"\\t\")\n",
    "    println(io, var_ξ[i])\n",
    "end\n",
    "close(io)\n",
    "end"
   ]
  },
  {
   "cell_type": "code",
   "execution_count": null,
   "metadata": {},
   "outputs": [],
   "source": []
  }
 ],
 "metadata": {
  "kernelspec": {
   "display_name": "Julia 1.5.1",
   "language": "julia",
   "name": "julia-1.5"
  },
  "language_info": {
   "file_extension": ".jl",
   "mimetype": "application/julia",
   "name": "julia",
   "version": "1.5.1"
  }
 },
 "nbformat": 4,
 "nbformat_minor": 4
}
