{
 "cells": [
  {
   "cell_type": "code",
   "execution_count": null,
   "metadata": {},
   "outputs": [],
   "source": [
    "] activate ../../Acceleration"
   ]
  },
  {
   "cell_type": "code",
   "execution_count": null,
   "metadata": {},
   "outputs": [],
   "source": [
    "using Acceleration\n",
    "\n",
    "data, labels = load_dataset(\"CIFAR-10\",[0,1],100,20);\n",
    "f,∇f,∇ϕ_cjg,σ,L,μ  = linear_regression(data,labels);"
   ]
  },
  {
   "cell_type": "code",
   "execution_count": null,
   "metadata": {},
   "outputs": [],
   "source": [
    "n = size(data,2)\n",
    "x_ini = zeros(n)\n",
    "k = 10000;\n",
    "\n",
    "@time x_out1 = mirror_descent(f,∇f,∇ϕ_cjg,x_ini,σ,L,k);\n",
    "@time x_out2 = gradient_descent(f,∇f,∇ϕ_cjg,x_ini,σ,L,k);\n",
    "@time x_out3 = accelerated_mirror_descent(f,∇f,∇ϕ_cjg,x_ini,σ,L,k);\n",
    "@time x_out4 = SCVX_AMD(f,∇f,∇ϕ_cjg,x_ini,σ,L,μ,k);"
   ]
  },
  {
   "cell_type": "code",
   "execution_count": null,
   "metadata": {},
   "outputs": [],
   "source": [
    "using JuMP\n",
    "using Ipopt\n",
    "\n",
    "@time model = Model(with_optimizer(Ipopt.Optimizer))\n",
    "@time set_silent(model)\n",
    "@time @variable(model, x[1:n])\n",
    "@time @objective(model, Min, f(x))\n",
    "@time optimize!(model)\n",
    "@time x_opt = value.(x);"
   ]
  },
  {
   "cell_type": "code",
   "execution_count": null,
   "metadata": {},
   "outputs": [],
   "source": [
    "using Plots\n",
    "using LinearAlgebra\n",
    "\n",
    "p1 = sqrt.(sum((x_out1 .- x_opt).^2, dims=1)');\n",
    "p2 = sqrt.(sum((x_out2 .- x_opt).^2, dims=1)');\n",
    "p3 = sqrt.(sum((x_out3 .- x_opt).^2, dims=1)');\n",
    "p4 = sqrt.(sum((x_out4 .- x_opt).^2, dims=1)');\n",
    "\n",
    "\n",
    "plot(hcat(p1,p2,p3,p4),yaxis=:log)"
   ]
  },
  {
   "cell_type": "code",
   "execution_count": null,
   "metadata": {},
   "outputs": [],
   "source": []
  }
 ],
 "metadata": {
  "kernelspec": {
   "display_name": "Julia 1.5.1",
   "language": "julia",
   "name": "julia-1.5"
  },
  "language_info": {
   "file_extension": ".jl",
   "mimetype": "application/julia",
   "name": "julia",
   "version": "1.5.1"
  }
 },
 "nbformat": 4,
 "nbformat_minor": 4
}
