{
 "cells": [
  {
   "cell_type": "code",
   "execution_count": 104,
   "metadata": {},
   "outputs": [
    {
     "name": "stderr",
     "output_type": "stream",
     "text": [
      "\u001b[32m\u001b[1m Activating\u001b[22m\u001b[39m environment at `~/Desktop/Code/Acceleration/Acceleration/Project.toml`\n"
     ]
    }
   ],
   "source": [
    "] activate ../../Acceleration"
   ]
  },
  {
   "cell_type": "code",
   "execution_count": 105,
   "metadata": {},
   "outputs": [
    {
     "name": "stderr",
     "output_type": "stream",
     "text": [
      "┌ Info: Loading dataset FashionMNIST with 60000 samples and 784 features\n",
      "└ @ Acceleration /Users/victor/Desktop/Code/Acceleration/Acceleration/src/datasets.jl:26\n"
     ]
    }
   ],
   "source": [
    "using Acceleration\n",
    "\n",
    "n = 1000; # number of samples\n",
    "d = 100;    # number of features\n",
    "selected_labels = [3,4,0,1,2]; \n",
    "\n",
    "data, labels = load_dataset(\"FashionMNIST\",selected_labels,n,d);  # load data set\n",
    "λ = 1;    # regularizer consant\n",
    "f,∇f,∇ϕ_cjg,σ,L,μ  = svm_setup(data,labels,λ); # obtan the ML model functions "
   ]
  },
  {
   "cell_type": "code",
   "execution_count": null,
   "metadata": {},
   "outputs": [],
   "source": [
    "x_ini = zeros(d+1)\n",
    "k = 1000;\n",
    "L = 1000;\n",
    "μ = 1;\n",
    "\n",
    "@time x_out1 = MD(f,∇f,∇ϕ_cjg,x_ini,σ,L,k);\n",
    "@time x_out2 = GD(f,∇f,∇ϕ_cjg,x_ini,σ,L,k);\n",
    "@time x_out3 = ufom(f,∇f,∇ϕ_cjg,x_ini,σ,L,0,k);\n",
    "@time x_out4 = AMD_plus(f,∇f,∇ϕ_cjg,x_ini,σ,L,k);"
   ]
  },
  {
   "cell_type": "code",
   "execution_count": null,
   "metadata": {},
   "outputs": [],
   "source": [
    "using Plots\n",
    "\n",
    "x_opt = svm_compute_optval(λ,data,labels)\n",
    "\n",
    "p1 = sqrt.(sum((x_out1 .- x_opt).^2, dims=1)');\n",
    "p2 = sqrt.(sum((x_out2 .- x_opt).^2, dims=1)');\n",
    "p3 = sqrt.(sum((x_out3 .- x_opt).^2, dims=1)');\n",
    "p4 = sqrt.(sum((x_out4 .- x_opt).^2, dims=1)');\n",
    "\n",
    "fig = plot(hcat(p1,p2,p3,p4),yaxis=:log, linewidth=2, \n",
    "label = [\"MD\" \"GD\" \"UFOM\" \"AMD+\"], xlabel = \"training rounds\", ylabel = \"error\")"
   ]
  },
  {
   "cell_type": "code",
   "execution_count": null,
   "metadata": {},
   "outputs": [],
   "source": [
    "plot(fig, legend=:topleft, label = [\"Dress\" \"Coat\" \"Opt. classifier\" \"AMD classifier\"])"
   ]
  },
  {
   "cell_type": "code",
   "execution_count": null,
   "metadata": {},
   "outputs": [],
   "source": [
    "using MLDatasets"
   ]
  },
  {
   "cell_type": "code",
   "execution_count": null,
   "metadata": {},
   "outputs": [],
   "source": [
    "FashionMNIST.classnames()\n"
   ]
  },
  {
   "cell_type": "code",
   "execution_count": 72,
   "metadata": {},
   "outputs": [
    {
     "data": {
      "text/plain": [
       "1"
      ]
     },
     "execution_count": 72,
     "metadata": {},
     "output_type": "execute_result"
    }
   ],
   "source": [
    "σ"
   ]
  },
  {
   "cell_type": "code",
   "execution_count": null,
   "metadata": {},
   "outputs": [],
   "source": [
    "using Acceleration\n",
    "\n",
    "n = 1000; # number of samples\n",
    "d = 2;    # number of features\n",
    "selected_labels = [3,4];\n",
    "\n",
    "data, labels = load_dataset(\"FashionMNIST\",selected_labels,n,d);  # load data set\n",
    "svm = svm_setup(data,labels,1); # obtain the ML model functions \n",
    "\n",
    "x_ini = zeros(d+1) # set initial point\n",
    "k = 10000; # set maximum number of iterations\n",
    "accelerated_mirror_descent(f,∇f,∇ϕ_cjg,x_ini,σ,L,k);\n"
   ]
  }
 ],
 "metadata": {
  "kernelspec": {
   "display_name": "Julia 1.5.1",
   "language": "julia",
   "name": "julia-1.5"
  },
  "language_info": {
   "file_extension": ".jl",
   "mimetype": "application/julia",
   "name": "julia",
   "version": "1.5.1"
  }
 },
 "nbformat": 4,
 "nbformat_minor": 4
}
