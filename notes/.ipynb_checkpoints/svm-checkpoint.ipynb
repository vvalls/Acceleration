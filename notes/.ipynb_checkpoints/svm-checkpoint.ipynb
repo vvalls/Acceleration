{
 "cells": [
  {
   "cell_type": "code",
   "execution_count": 1,
   "metadata": {},
   "outputs": [
    {
     "name": "stderr",
     "output_type": "stream",
     "text": [
      "\u001b[32m\u001b[1m Activating\u001b[22m\u001b[39m environment at `~/Desktop/Code/Acceleration/Acceleration/Project.toml`\n"
     ]
    }
   ],
   "source": [
    "] activate ../../Acceleration"
   ]
  },
  {
   "cell_type": "code",
   "execution_count": 3,
   "metadata": {},
   "outputs": [
    {
     "name": "stderr",
     "output_type": "stream",
     "text": [
      "┌ Info: Precompiling Acceleration [3d23a943-b82c-4298-b747-af7f55a2c224]\n",
      "└ @ Base loading.jl:1278\n",
      "┌ Info: Loading dataset CIFAR-10 with 50000 samples and 3072 features\n",
      "└ @ Acceleration /Users/victor/Desktop/Code/Acceleration/Acceleration/src/datasets.jl:26\n"
     ]
    }
   ],
   "source": [
    "using Acceleration\n",
    "\n",
    "data, labels = load_dataset(\"CIFAR-10\",[0,1],100,20);"
   ]
  },
  {
   "cell_type": "code",
   "execution_count": 22,
   "metadata": {},
   "outputs": [
    {
     "data": {
      "text/plain": [
       "1"
      ]
     },
     "execution_count": 22,
     "metadata": {},
     "output_type": "execute_result"
    }
   ],
   "source": [
    "m = size(data,1) # number of samples\n",
    "n = size(data,2) # number of features\n",
    "β = zeros(size(data,2));\n",
    "β0 = 1;\n",
    "λ = 1"
   ]
  },
  {
   "cell_type": "code",
   "execution_count": 25,
   "metadata": {},
   "outputs": [
    {
     "data": {
      "text/plain": [
       "f (generic function with 1 method)"
      ]
     },
     "execution_count": 25,
     "metadata": {},
     "output_type": "execute_result"
    }
   ],
   "source": [
    "using LinearAlgebra\n",
    "function f(β,β0)\n",
    "    return λ * norm(β,2)^2 + inv(m) * sum(max.(0, 1 .- data*β .+ β0))\n",
    "end"
   ]
  },
  {
   "cell_type": "code",
   "execution_count": 26,
   "metadata": {},
   "outputs": [
    {
     "data": {
      "text/plain": [
       "2.0"
      ]
     },
     "execution_count": 26,
     "metadata": {},
     "output_type": "execute_result"
    }
   ],
   "source": [
    "f(β,β0)"
   ]
  },
  {
   "cell_type": "code",
   "execution_count": 42,
   "metadata": {},
   "outputs": [],
   "source": [
    "A = data; b = labels;\n"
   ]
  },
  {
   "cell_type": "code",
   "execution_count": 60,
   "metadata": {},
   "outputs": [
    {
     "data": {
      "text/plain": [
       "21-element Array{Float64,1}:\n",
       " 19.04871744638659\n",
       "  9.15233226366711\n",
       "  3.3354957781059005\n",
       " -1.9732361282621038\n",
       " -0.7703366024033197\n",
       " -4.756597093575838\n",
       " -1.795514021704119\n",
       " -1.2616790541302652\n",
       " -4.380821410121023\n",
       " -1.7304086051373173\n",
       " -1.211946484091845\n",
       "  1.5819823113047782\n",
       " -0.8950218105501053\n",
       "  0.023687890238853704\n",
       " -1.4277943010639405\n",
       "  2.574339279332189\n",
       " -1.461329497572693\n",
       "  2.1442548021387693\n",
       " -0.17821318330931232\n",
       " -0.06181041482813539\n",
       "  1.272727272727273"
      ]
     },
     "execution_count": 60,
     "metadata": {},
     "output_type": "execute_result"
    }
   ],
   "source": [
    "v = Int16.(0 .< 1 .- data*β .+ β0);\n",
    "grad = 2*λ*vcat(β,β0) + inv(m) * - hcat(data,labels)'*v;"
   ]
  },
  {
   "cell_type": "code",
   "execution_count": 59,
   "metadata": {},
   "outputs": [
    {
     "data": {
      "text/plain": [
       "21-element Array{Float64,1}:\n",
       " -419.071783820505\n",
       " -201.35130980067643\n",
       "  -73.3809071183298\n",
       "   43.41119482176628\n",
       "   16.947405252873033\n",
       "  104.64513605866844\n",
       "   39.50130847749062\n",
       "   27.756939190865836\n",
       "   96.37807102266251\n",
       "   38.06898931302098\n",
       "   26.662822650020587\n",
       "  -34.80361084870512\n",
       "   19.690479832102316\n",
       "   -0.5211335852547794\n",
       "   31.411474623406686\n",
       "  -56.63546414530815\n",
       "   32.14924894659924\n",
       "  -47.17360564705292\n",
       "    3.9206900328048713\n",
       "    1.359829126218979\n",
       "   16.0"
      ]
     },
     "execution_count": 59,
     "metadata": {},
     "output_type": "execute_result"
    }
   ],
   "source": [
    "hcat(data,labels)'*v"
   ]
  },
  {
   "cell_type": "code",
   "execution_count": 58,
   "metadata": {},
   "outputs": [
    {
     "data": {
      "text/plain": [
       "22-element Array{Int16,1}:\n",
       " 1\n",
       " 1\n",
       " 1\n",
       " 1\n",
       " 1\n",
       " 1\n",
       " 1\n",
       " 1\n",
       " 1\n",
       " 1\n",
       " 1\n",
       " 1\n",
       " 1\n",
       " 1\n",
       " 1\n",
       " 1\n",
       " 1\n",
       " 1\n",
       " 1\n",
       " 1\n",
       " 1\n",
       " 1"
      ]
     },
     "execution_count": 58,
     "metadata": {},
     "output_type": "execute_result"
    }
   ],
   "source": [
    "v"
   ]
  },
  {
   "cell_type": "code",
   "execution_count": null,
   "metadata": {},
   "outputs": [],
   "source": []
  }
 ],
 "metadata": {
  "kernelspec": {
   "display_name": "Julia 1.5.1",
   "language": "julia",
   "name": "julia-1.5"
  },
  "language_info": {
   "file_extension": ".jl",
   "mimetype": "application/julia",
   "name": "julia",
   "version": "1.5.1"
  }
 },
 "nbformat": 4,
 "nbformat_minor": 4
}
