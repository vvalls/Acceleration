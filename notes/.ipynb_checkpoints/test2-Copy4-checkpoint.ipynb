{
 "cells": [
  {
   "cell_type": "code",
   "execution_count": 1,
   "metadata": {},
   "outputs": [
    {
     "name": "stderr",
     "output_type": "stream",
     "text": [
      "\u001b[32m\u001b[1m Activating\u001b[22m\u001b[39m environment at `~/Desktop/Code/Acceleration/Acceleration/Project.toml`\n"
     ]
    }
   ],
   "source": [
    "] activate ../../Acceleration"
   ]
  },
  {
   "cell_type": "code",
   "execution_count": null,
   "metadata": {},
   "outputs": [],
   "source": [
    "using Acceleration\n",
    "using LinearAlgebra\n",
    "\n",
    "n = 1000; # number of samples\n",
    "d = 100;    # number of features\n",
    "selected_labels = [0,1];  ## Only two labels allowed\n",
    "\n",
    "data, labels = load_dataset(\"MNIST\",[0,1],n,d);\n",
    "f,∇f,∇ϕ_cjg,σ,L,μ  = linear_regression(data,labels);"
   ]
  },
  {
   "cell_type": "code",
   "execution_count": null,
   "metadata": {},
   "outputs": [],
   "source": [
    "n = size(data,2)\n",
    "x_ini = zeros(n)\n",
    "\n",
    "\n",
    "using JuMP\n",
    "using Ipopt\n",
    "\n",
    "@time model = Model(with_optimizer(Ipopt.Optimizer))\n",
    "@time set_silent(model)\n",
    "@time @variable(model, x[1:n])\n",
    "@time @objective(model, Min, f(x))\n",
    "@time optimize!(model)\n",
    "@time x_opt = value.(x);"
   ]
  },
  {
   "cell_type": "code",
   "execution_count": null,
   "metadata": {
    "scrolled": true
   },
   "outputs": [],
   "source": [
    "n = length(x_ini)\n",
    "x = x_ini;\n",
    "y = zeros(n);\n",
    "z = zeros(n);\n",
    "v = zeros(n);\n",
    "A0 = 1;\n",
    "A = A0;\n",
    "AX = zeros(n);\n",
    "\n",
    "k = 10;\n",
    "aks = zeros(k);\n",
    "R = zeros(k);\n",
    "xks = zeros(n,k);\n",
    "axks = zeros(n,k);\n",
    "yks = zeros(n,k);\n",
    "zks = zeros(n,k);\n",
    "up = zeros(k);\n",
    "#μ = 0;\n",
    "s = zeros(n);\n",
    "noise = 0;\n",
    "\n",
    "\n",
    "\n",
    "function varphi_k_cjg(k,z,μ,aks,xks)\n",
    "    A = sum(aks[1:k])\n",
    "    AX = sum(axks[:,1:k], dims=2)\n",
    "    v = (z + μ*AX)*inv(1 + μ*A);\n",
    "    return z'*x - (1/2)*norm(v,2)^2 - (μ/2)\n",
    "end\n",
    "\n",
    "for i=1:k   \n",
    "   \n",
    "    a = L; b = -(μ*A + σ); c = -μ*A^2 - σ*A;\n",
    "    α = (-b + sqrt(b^2 - 4*a*c)) / (2*a);\n",
    "    #α = (σ/L) * (i+1)/2\n",
    "    A = A + α;\n",
    "    x = (A-α)/A*y + α/A*v; \n",
    "    AX = AX + α*x;\n",
    "\n",
    "    η = zeros(n)\n",
    "    approx_gradient = ∇f(x)+η;\n",
    "    \n",
    "    s = s + α*η;\n",
    "    z = z - α*approx_gradient;\n",
    "    \n",
    "    v_past = v;\n",
    "    v = (z + μ*AX)*inv(1 + μ*(A-1));\n",
    "    y = (A-α)*inv(A)*y + α*inv(A)*v; \n",
    "    y2 = x - (1/L)*approx_gradient    \n",
    "    \n",
    "    aks[i] = α;\n",
    "    xks[:,i] = x;\n",
    "    axks[:,i] = α*x;\n",
    "    yks[:,i] = y;\n",
    "    zks[:,i] = z;\n",
    "    \n",
    "    a1 = varphi_k_cjg(k,z,μ,aks,xks)\n",
    "    a2 = varphi_k_cjg(k-1,z+α*approx_gradient,μ,aks,xks)\n",
    "    a3 = -varphi_k_cjg(k,z+α*approx_gradient,μ,aks,xks)\n",
    "    a4 = -varphi_k_cjg(k-1,z,μ,aks,xks)\n",
    "    \n",
    "    #R[i] = (a1 + a2 + a3 + a4) / norm(α*∇f(x))\n",
    "    #R[i] = (a1 + a2 + a3 + a4) / α\n",
    "    R[i] = (a1 + a4)\n",
    "    \n",
    "    println(a1 + a4)\n",
    "#    println(R[i])\n",
    "    #println(norm(z))\n",
    "    #println(norm(v-v_past) - 4/(μ*A + σ)*norm(α*∇f(x)))\n",
    "\n",
    "end\n",
    "\n",
    "x_out = yks;\n",
    "x_gd = gradient_descent(f,∇f,∇ϕ_cjg,x_ini,σ,L,k);\n",
    "x_amd = accelerated_mirror_descent(f,∇f,∇ϕ_cjg,x_ini,σ,L,k);\n",
    "x_amd2 = SCVX_AMD(f,∇f,∇ϕ_cjg,x_ini,σ,L,μ2,k);\n",
    "\n"
   ]
  },
  {
   "cell_type": "code",
   "execution_count": null,
   "metadata": {},
   "outputs": [],
   "source": [
    "a1"
   ]
  },
  {
   "cell_type": "code",
   "execution_count": null,
   "metadata": {},
   "outputs": [],
   "source": []
  },
  {
   "cell_type": "code",
   "execution_count": null,
   "metadata": {},
   "outputs": [],
   "source": [
    "A = sum(aks[1:k])\n",
    "#AX = sum(axks[:,1:k], dims=2)"
   ]
  },
  {
   "cell_type": "code",
   "execution_count": null,
   "metadata": {},
   "outputs": [],
   "source": [
    "println(μ)\n",
    "println(maximum(R))\n",
    "println(minimum(R))\n",
    "plot(R)"
   ]
  },
  {
   "cell_type": "code",
   "execution_count": null,
   "metadata": {},
   "outputs": [],
   "source": [
    "α"
   ]
  },
  {
   "cell_type": "code",
   "execution_count": null,
   "metadata": {
    "scrolled": true
   },
   "outputs": [],
   "source": [
    "using Plots\n",
    "using LinearAlgebra\n",
    "\n",
    "p_out = sqrt.(sum((x_out .- x_opt).^2, dims=1)');\n",
    "p_gd = sqrt.(sum((x_gd .- x_opt).^2, dims=1)');\n",
    "p_amd = sqrt.(sum((x_amd .- x_opt).^2, dims=1)');\n",
    "p_amd2 = sqrt.(sum((x_amd2 .- x_opt).^2, dims=1)');\n",
    "\n",
    "plot(max.(hcat(p_gd,p_amd,p_amd2,p_out),1e-20),yaxis=:log,linewidth=2,xlabel=\"training rounds\",ylabel=\"loss\")"
   ]
  },
  {
   "cell_type": "code",
   "execution_count": null,
   "metadata": {},
   "outputs": [],
   "source": [
    "sum(axks[:,1:3], dims=2)"
   ]
  },
  {
   "cell_type": "code",
   "execution_count": null,
   "metadata": {},
   "outputs": [],
   "source": []
  }
 ],
 "metadata": {
  "kernelspec": {
   "display_name": "Julia 1.5.1",
   "language": "julia",
   "name": "julia-1.5"
  },
  "language_info": {
   "file_extension": ".jl",
   "mimetype": "application/julia",
   "name": "julia",
   "version": "1.5.1"
  }
 },
 "nbformat": 4,
 "nbformat_minor": 4
}
