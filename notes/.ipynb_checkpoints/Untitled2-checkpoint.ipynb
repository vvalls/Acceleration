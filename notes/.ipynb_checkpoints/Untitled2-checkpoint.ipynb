{
 "cells": [
  {
   "cell_type": "code",
   "execution_count": 1,
   "metadata": {},
   "outputs": [
    {
     "name": "stderr",
     "output_type": "stream",
     "text": [
      "\u001b[32m\u001b[1m Activating\u001b[22m\u001b[39m environment at `~/Desktop/Code/Acceleration/Acceleration/Project.toml`\n"
     ]
    }
   ],
   "source": [
    "] activate ../../Acceleration"
   ]
  },
  {
   "cell_type": "code",
   "execution_count": 3,
   "metadata": {},
   "outputs": [
    {
     "name": "stderr",
     "output_type": "stream",
     "text": [
      "┌ Info: Loading dataset MNIST with 60000 samples and 784 features\n",
      "└ @ Acceleration /Users/victor/Desktop/Code/Acceleration/Acceleration/src/datasets.jl:26\n"
     ]
    }
   ],
   "source": [
    "using Acceleration\n",
    "using LinearAlgebra\n",
    "\n",
    "n = 100;   # number of samples\n",
    "d = 50;     # number of features\n",
    "selected_labels = [3,4,0,1,2]; \n",
    "\n",
    "data, labels = load_dataset(\"MNIST\",[0,1],100,20);"
   ]
  },
  {
   "cell_type": "code",
   "execution_count": 7,
   "metadata": {},
   "outputs": [
    {
     "data": {
      "text/plain": [
       "f (generic function with 1 method)"
      ]
     },
     "execution_count": 7,
     "metadata": {},
     "output_type": "execute_result"
    }
   ],
   "source": [
    "m = size(data,1)\n",
    "n = size(data,2)\n",
    "\n",
    "A = data; b = labels;\n",
    "λ = 1;\n",
    "\n",
    "function f(x)\n",
    "    return (1/m)*sum(log.(1 .+ exp.(-b.*(A*x)))) + (λ/2)*norm(x,2)^2;\n",
    "end"
   ]
  },
  {
   "cell_type": "code",
   "execution_count": 8,
   "metadata": {},
   "outputs": [
    {
     "data": {
      "text/plain": [
       "0.6931471805599451"
      ]
     },
     "execution_count": 8,
     "metadata": {},
     "output_type": "execute_result"
    }
   ],
   "source": [
    "x_ini = zeros(n);\n",
    "f(x_ini)"
   ]
  },
  {
   "cell_type": "code",
   "execution_count": 12,
   "metadata": {},
   "outputs": [
    {
     "data": {
      "text/plain": [
       "∇f (generic function with 1 method)"
      ]
     },
     "execution_count": 12,
     "metadata": {},
     "output_type": "execute_result"
    }
   ],
   "source": [
    "function ∇f(x)\n",
    "    c = exp.(-b.*(A*x));\n",
    "    return sum((c ./ (1 .+ c)) * b'*A, dims=1)' + λ*x;\n",
    "end"
   ]
  },
  {
   "cell_type": "code",
   "execution_count": 13,
   "metadata": {},
   "outputs": [
    {
     "data": {
      "text/plain": [
       "20×1 Array{Float64,2}:\n",
       " -1415.2598512915276\n",
       "    87.6617294874108\n",
       "   -69.5482827352862\n",
       "   123.26886540586922\n",
       "    24.11938680971227\n",
       "  -106.67455783224248\n",
       "    -1.0769987484873598\n",
       "   -25.844197398560727\n",
       "     6.105283901651153\n",
       "   -26.043125722850434\n",
       "   -25.920588538725625\n",
       "     6.20324056726334\n",
       "     7.329174931093541\n",
       "    -4.386947002311089\n",
       "     7.941513240413677\n",
       "    17.72657852032882\n",
       "    -7.424224776354741\n",
       "     4.343983105929335\n",
       "   -13.964139561696038\n",
       "   -12.06912435231573"
      ]
     },
     "execution_count": 13,
     "metadata": {},
     "output_type": "execute_result"
    }
   ],
   "source": [
    "∇f(x_ini)"
   ]
  },
  {
   "cell_type": "code",
   "execution_count": 20,
   "metadata": {},
   "outputs": [
    {
     "data": {
      "text/plain": [
       "logistic_regression_compute_optval (generic function with 1 method)"
      ]
     },
     "execution_count": 20,
     "metadata": {},
     "output_type": "execute_result"
    }
   ],
   "source": [
    "using LinearAlgebra\n",
    "using JuMP\n",
    "using Ipopt\n",
    "using SCS\n",
    "\n",
    "function logistic_regression_compute_optval(f,n)\n",
    "\n",
    "    model = Model(with_optimizer(SCS.Optimizer))\n",
    "    set_silent(model)\n",
    "    @variable(model, x[1:n])\n",
    "    @NLobjective(model, Min, (1/m)*sum(log.(1 .+ exp.(-b.*(A*x)))) + (λ/2)*norm(x,2)^2)\n",
    "    optimize!(model)\n",
    "\n",
    "    return value.(x);\n",
    "\n",
    "end"
   ]
  },
  {
   "cell_type": "code",
   "execution_count": 21,
   "metadata": {},
   "outputs": [
    {
     "ename": "LoadError",
     "evalue": "Unrecognized function \"f\" used in nonlinear expression.",
     "output_type": "error",
     "traceback": [
      "Unrecognized function \"f\" used in nonlinear expression.",
      "",
      "Stacktrace:",
      " [1] error(::String) at ./error.jl:33",
      " [2] macro expansion at /Users/victor/.julia/packages/JuMP/qhoVb/src/parse_nlp.jl:71 [inlined]",
      " [3] macro expansion at /Users/victor/.julia/packages/JuMP/qhoVb/src/macros.jl:1368 [inlined]",
      " [4] logistic_regression_compute_optval(::Function, ::Int64) at ./In[20]:11",
      " [5] top-level scope at In[21]:1",
      " [6] include_string(::Function, ::Module, ::String, ::String) at ./loading.jl:1091"
     ]
    }
   ],
   "source": [
    "logistic_regression_compute_optval(f,n)"
   ]
  },
  {
   "cell_type": "code",
   "execution_count": null,
   "metadata": {},
   "outputs": [],
   "source": []
  }
 ],
 "metadata": {
  "kernelspec": {
   "display_name": "Julia 1.5.1",
   "language": "julia",
   "name": "julia-1.5"
  },
  "language_info": {
   "file_extension": ".jl",
   "mimetype": "application/julia",
   "name": "julia",
   "version": "1.5.1"
  }
 },
 "nbformat": 4,
 "nbformat_minor": 4
}
