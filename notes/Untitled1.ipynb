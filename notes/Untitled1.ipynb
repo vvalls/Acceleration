{
 "cells": [
  {
   "cell_type": "code",
   "execution_count": 1,
   "metadata": {},
   "outputs": [
    {
     "data": {
      "text/plain": [
       "100-element Array{Float64,1}:\n",
       " 0.06323124400298807\n",
       " 0.2184244020806012\n",
       " 0.3865371918105758\n",
       " 0.9173221917341523\n",
       " 0.6032393572388532\n",
       " 0.8568962411599019\n",
       " 0.6572062029679182\n",
       " 0.033428679954414564\n",
       " 0.15965815587423515\n",
       " 0.22712417608665247\n",
       " 0.16753507392925515\n",
       " 0.9500184973669048\n",
       " 0.09822046223173997\n",
       " ⋮\n",
       " 0.6093706255247744\n",
       " 0.8300026440619293\n",
       " 0.3907172533868948\n",
       " 0.12731697570265488\n",
       " 0.07789600732771951\n",
       " 0.4490173517447966\n",
       " 0.30908183886016816\n",
       " 0.5401370099984144\n",
       " 0.9814464675091126\n",
       " 0.161981436262566\n",
       " 0.10928929297808998\n",
       " 0.7407641867172163"
      ]
     },
     "execution_count": 1,
     "metadata": {},
     "output_type": "execute_result"
    }
   ],
   "source": []
  },
  {
   "cell_type": "code",
   "execution_count": 24,
   "metadata": {},
   "outputs": [
    {
     "data": {
      "text/plain": [
       "100-element Array{Int16,1}:\n",
       " 0\n",
       " 0\n",
       " 0\n",
       " 0\n",
       " 1\n",
       " 0\n",
       " 0\n",
       " 0\n",
       " 0\n",
       " 0\n",
       " 1\n",
       " 0\n",
       " 1\n",
       " ⋮\n",
       " 0\n",
       " 0\n",
       " 0\n",
       " 0\n",
       " 0\n",
       " 0\n",
       " 0\n",
       " 0\n",
       " 0\n",
       " 1\n",
       " 0\n",
       " 0"
      ]
     },
     "execution_count": 24,
     "metadata": {},
     "output_type": "execute_result"
    }
   ],
   "source": [
    "n = 100;\n",
    "v = rand(100)\n",
    "k = Int16.(ceil(n/4));\n",
    "sorted_vector = sort(v)\n",
    "k_largest = sorted_vector[n-k+1]\n",
    "bin_vec = Int16.(v .> k_largest)"
   ]
  },
  {
   "cell_type": "code",
   "execution_count": 22,
   "metadata": {},
   "outputs": [
    {
     "data": {
      "text/plain": [
       "1.9626843910274425"
      ]
     },
     "execution_count": 22,
     "metadata": {},
     "output_type": "execute_result"
    }
   ],
   "source": [
    "sum(v.*bin_vec)"
   ]
  },
  {
   "cell_type": "code",
   "execution_count": null,
   "metadata": {},
   "outputs": [],
   "source": []
  },
  {
   "cell_type": "code",
   "execution_count": null,
   "metadata": {},
   "outputs": [],
   "source": []
  }
 ],
 "metadata": {
  "kernelspec": {
   "display_name": "Julia 1.5.1",
   "language": "julia",
   "name": "julia-1.5"
  },
  "language_info": {
   "file_extension": ".jl",
   "mimetype": "application/julia",
   "name": "julia",
   "version": "1.5.1"
  }
 },
 "nbformat": 4,
 "nbformat_minor": 4
}
